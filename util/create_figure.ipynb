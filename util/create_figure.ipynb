{
 "cells": [
  {
   "cell_type": "code",
   "execution_count": 84,
   "metadata": {},
   "outputs": [],
   "source": [
    "import os\n",
    "top_dir = os.path.join(\"~\", \"OneDrive\",\n",
    "    \"work\", \"methyl\", \"source_data\", \"cgi_methyl_fgo_blastocyst-maternal_unmethyl-pos\")\n",
    "input_filename = os.path.join(top_dir, \"exp_aug.xlsx\")"
   ]
  },
  {
   "cell_type": "code",
   "execution_count": 85,
   "metadata": {},
   "outputs": [],
   "source": [
    "import pandas as pd\n",
    "df = pd.read_excel(input_filename)"
   ]
  },
  {
   "cell_type": "code",
   "execution_count": 86,
   "metadata": {},
   "outputs": [],
   "source": [
    "# remove empty rows. \n",
    "c = df.test_F_mean\n",
    "import numpy as np\n",
    "cc = c.map(np.isnan).map(np.bitwise_not)\n",
    "df = df[cc]"
   ]
  },
  {
   "cell_type": "code",
   "execution_count": 87,
   "metadata": {},
   "outputs": [
    {
     "data": {
      "image/png": "[encoded data removed]",
      "text/plain": [
       "<Figure size 432x288 with 1 Axes>"
      ]
     },
     "metadata": {
      "needs_background": "light"
     },
     "output_type": "display_data"
    }
   ],
   "source": [
    "\n",
    "fig = plt.figure()\n",
    "\n",
    "labels = df.N\n",
    "m = df.test_F_mean\n",
    "se = df.test_F_SE\n",
    "\n",
    "x = np.arange(len(labels))\n",
    "\n",
    "import matplotlib.pyplot as plt\n",
    "\n",
    "plt.bar(x, m,  yerr = se, capsize=2, tick_label=labels, width=0.8)\n",
    "plt.ylabel('F-measure', fontsize = 12)\n",
    "\n",
    "plt.ylim(0, 1.0)\n",
    "# for a,b,c in zip(x, m, se):\n",
    "#     plt.text(a, b+c+0.02, '%.3f' % b, ha='center', va= 'bottom',fontsize=12)\n",
    "\n",
    "plt.xticks(fontsize=10, rotation='vertical')\n",
    "# rotation=60)\n",
    "# ,\n",
    "# \n",
    "# plt.margins(0.2)\n",
    "plt.subplots_adjust(bottom=0.25)\n",
    "\n",
    "\n",
    "plt.grid(axis=\"y\",ls='--')\n",
    "plt.show()\n",
    "fig.savefig('img_2.pdf')"
   ]
  }
 ],
 "metadata": {
  "interpreter": {
   "hash": "7a96601efc709f0670d77461d07a30639c3c193700ae985b57e43680d4857d91"
  },
  "kernelspec": {
   "display_name": "Python 3.9.12 ('torch')",
   "language": "python",
   "name": "python3"
  },
  "language_info": {
   "codemirror_mode": {
    "name": "ipython",
    "version": 3
   },
   "file_extension": ".py",
   "mimetype": "text/x-python",
   "name": "python",
   "nbconvert_exporter": "python",
   "pygments_lexer": "ipython3",
   "version": "3.9.12"
  },
  "orig_nbformat": 4
 },
 "nbformat": 4,
 "nbformat_minor": 2
}
